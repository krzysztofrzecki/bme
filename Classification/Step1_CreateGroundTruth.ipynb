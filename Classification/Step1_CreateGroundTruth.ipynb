{
 "cells": [
  {
   "cell_type": "code",
   "execution_count": 14,
   "metadata": {},
   "outputs": [],
   "source": [
    "import os\n",
    "import glob\n",
    "import cv2\n",
    "import numpy as np\n",
    "import matplotlib.pyplot as plt\n",
    "from pycimg import CImg"
   ]
  },
  {
   "cell_type": "code",
   "execution_count": 15,
   "metadata": {},
   "outputs": [],
   "source": [
    "   \n",
    "def readBinaryData(n,SIZE,H,nbytes,BO='BE'):\n",
    "\n",
    "    if nbytes==2:\n",
    "        d = np.zeros((SIZE,SIZE,H),np.uint16)\n",
    "    elif nbytes==1:\n",
    "        d = np.zeros((SIZE,SIZE,H),np.uint8)\n",
    "    else:\n",
    "        print('Wrong number of bytes per voxel')\n",
    "        return\n",
    "    \n",
    "    f=open(n,\"rb\")\n",
    "    for i in range(0,H):\n",
    "        for j in range(0,SIZE):\n",
    "            for k in range(0,SIZE):\n",
    "                byte = f.read(nbytes)\n",
    "                if nbytes==2:\n",
    "                    if BO =='BE':\n",
    "                        a = 256*byte[0] + byte[1]\n",
    "                    elif BO == 'LE':\n",
    "                        a = byte[0] + 256*byte[1]\n",
    "                        \n",
    "                else:\n",
    "                    a = byte[0]\n",
    "                d[j,k,i] = a\n",
    "    f.close()\n",
    "    return d\n"
   ]
  },
  {
   "cell_type": "code",
   "execution_count": 16,
   "metadata": {},
   "outputs": [],
   "source": [
    "def writeBinaryData(d,n):\n",
    "\n",
    "    f=open(n,\"wb\")\n",
    "    for i in range(0,d.shape[2]):\n",
    "        for j in range(0,d.shape[0]):\n",
    "            for k in range(0,d.shape[0]):\n",
    "                byte = f.write(d[j,k,i])\n",
    "    f.close()"
   ]
  },
  {
   "cell_type": "code",
   "execution_count": 17,
   "metadata": {},
   "outputs": [],
   "source": [
    "MAN_LES_DIR1 = '/home/user/Spine/Data/Lesions_IK/'\n",
    "MAN_LES_DIR2 = '/home/user/Spine/Data/Lesions_WW/'\n",
    "MAN_LES_DIR3 = '/home/user/Spine/Data/Lesions_3rd/'\n"
   ]
  },
  {
   "cell_type": "code",
   "execution_count": 18,
   "metadata": {},
   "outputs": [
    {
     "name": "stdout",
     "output_type": "stream",
     "text": [
      "['10', '11', '1', '24', '25', '26', '27', '28', '29', '2', '30', '31', '32', '33', '34', '35', '36', '37', '38', '39', '3', '40', '41', '42', '4', '5', '6', '7', '8', '9']\n",
      "['10', '11', '1', '24', '25', '26', '27', '28', '29', '2', '30', '31', '32', '33', '34', '35', '36', '37', '38', '39', '3', '40', '41', '42', '4', '5', '6', '7', '8', '9']\n",
      "['10', '11', '1', '24', '25', '26', '27', '28', '29', '2', '30', '31', '32', '33', '34', '35', '36', '37', '38', '39', '3', '40', '41', '42', '4', '5', '6', '7', '8', '9']\n"
     ]
    }
   ],
   "source": [
    "lesions_list1 = glob.glob(MAN_LES_DIR1 + 'Lesions*.raw')\n",
    "lesions_list1.sort()\n",
    "numbers1 = [l.split('/')[-1].split('.')[0].split('_')[1] for l in lesions_list1]\n",
    "print(numbers1)\n",
    "\n",
    "lesions_list2 = glob.glob(MAN_LES_DIR2 + 'Lesions*.raw')\n",
    "lesions_list2.sort()\n",
    "numbers2 = [l.split('/')[-1].split('.')[0].split('_')[1] for l in lesions_list2]\n",
    "print(numbers2)\n",
    "\n",
    "lesions_list3 = glob.glob(MAN_LES_DIR3 + 'Lesions*.raw')\n",
    "lesions_list3.sort()\n",
    "numbers3 = [l.split('/')[-1].split('.')[0].split('_')[1] for l in lesions_list3]\n",
    "print(numbers3)\n"
   ]
  },
  {
   "cell_type": "code",
   "execution_count": 21,
   "metadata": {},
   "outputs": [
    {
     "name": "stdout",
     "output_type": "stream",
     "text": [
      "Lesions_7_400_400_19_1_ Lesions_7_400_400_18_1_ Lesions_7_400_400_18_1_ error\n"
     ]
    }
   ],
   "source": [
    "\n",
    "for l1,l2,l3 in zip(lesions_list1,lesions_list2,lesions_list3):\n",
    "    \n",
    "    name_l1 = l1.split('/')[-1].split('.')[0]\n",
    "    _ , num_l1,SIZE_l1,_,H_l1,B_l1,_ = name_l1.split('_')\n",
    "    labRAW1 = readBinaryData(l1,int(SIZE_l1),int(H_l1),int(B_l1))\n",
    "\n",
    "    name_l2 = l2.split('/')[-1].split('.')[0]\n",
    "    _ , num_l2,SIZE_l2,_,H_l2,B_l2,_ = name_l2.split('_')\n",
    "    labRAW2 = readBinaryData(l2,int(SIZE_l2),int(H_l2),int(B_l2))\n",
    "\n",
    "    name_l3 = l3.split('/')[-1].split('.')[0]\n",
    "    _ , num_l3,SIZE_l3,_,H_l3,B_l3,_ = name_l3.split('_')\n",
    "    labRAW3 = readBinaryData(l3,int(SIZE_l3),int(H_l3),int(B_l3))\n",
    "\n",
    "    SIZE = min(int(SIZE_l1),int(SIZE_l2),int(SIZE_l3))\n",
    "    H = min(int(H_l1),int(H_l2),int(H_l3))\n",
    "    labMAJOR = np.zeros((SIZE,SIZE,H),dtype=np.uint8)\n",
    "    labOR = np.zeros((SIZE,SIZE,H),dtype=np.uint8)\n",
    "\n",
    "    if min(int(SIZE_l1),int(SIZE_l2),int(SIZE_l3)) != max(int(SIZE_l1),int(SIZE_l2),int(SIZE_l3)) or \\\n",
    "        min(int(H_l1),int(H_l2),int(H_l3)) != max(int(H_l1),int(H_l2),int(H_l3)):\n",
    "        print(name_l1,name_l2,name_l3,'error')\n",
    "    \n",
    "    labOR = labRAW1[:,:,:H] + labRAW2[:,:,:H] + labRAW3[:,:,:H]\n",
    "    labMAJOR[labOR>=2] = 255\n",
    "    labOR[labOR!=0] = 255\n",
    "    \n",
    "    name = '_'.join(['MV',num_l1,str(SIZE),str(SIZE),str(H),'1.raw'])\n",
    "    writeBinaryData(labMAJOR,name)\n",
    "\n",
    "    name = '_'.join(['OR',num_l1,str(SIZE),str(SIZE),str(H),'1.raw'])\n",
    "    writeBinaryData(labOR,name)\n"
   ]
  },
  {
   "cell_type": "code",
   "execution_count": null,
   "metadata": {},
   "outputs": [],
   "source": []
  }
 ],
 "metadata": {
  "kernelspec": {
   "display_name": "Python 3",
   "language": "python",
   "name": "python3"
  },
  "language_info": {
   "codemirror_mode": {
    "name": "ipython",
    "version": 3
   },
   "file_extension": ".py",
   "mimetype": "text/x-python",
   "name": "python",
   "nbconvert_exporter": "python",
   "pygments_lexer": "ipython3",
   "version": "3.7.4"
  }
 },
 "nbformat": 4,
 "nbformat_minor": 4
}
